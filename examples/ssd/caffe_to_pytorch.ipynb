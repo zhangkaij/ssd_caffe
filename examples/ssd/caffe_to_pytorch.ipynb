{
 "cells": [
  {
   "cell_type": "markdown",
   "metadata": {},
   "source": [
    "# Convert caffe to pytorch"
   ]
  },
  {
   "cell_type": "markdown",
   "metadata": {},
   "source": [
    "I introduce a method that converts a caffe pretrained model to a pytorch model: first convert caffe model to numpy file, and then reload it in pytorch. Because both of them store parameters of model in a dictionary manner, it is possible for our method."
   ]
  },
  {
   "cell_type": "code",
   "execution_count": 6,
   "metadata": {
    "collapsed": true
   },
   "outputs": [],
   "source": [
    "import os\n",
    "import caffe\n",
    "import numpy as np\n",
    "\n",
    "os.chdir('/home/zhangkj/software/caffe')"
   ]
  },
  {
   "cell_type": "markdown",
   "metadata": {},
   "source": [
    "you need prepare a deploy.prototxt and a xx.caffemodel of the model which will be converted."
   ]
  },
  {
   "cell_type": "code",
   "execution_count": 7,
   "metadata": {
    "collapsed": true
   },
   "outputs": [],
   "source": [
    "net = caffe.Net('models/VGGNet/coco/SSD_300x300/deploy.prototxt', 'models/VGGNet/coco/SSD_300x300/vgg_coco.caffemodel', caffe.TEST)"
   ]
  },
  {
   "cell_type": "markdown",
   "metadata": {},
   "source": [
    "set up a list of source-destination parameter name tuples which parameter name of the source net go where in the destination net."
   ]
  },
  {
   "cell_type": "code",
   "execution_count": 9,
   "metadata": {},
   "outputs": [
    {
     "name": "stdout",
     "output_type": "stream",
     "text": [
      "['conv1_1', 'conv1_2', 'conv2_1', 'conv2_2', 'conv3_1', 'conv3_2', 'conv3_3', 'conv4_1', 'conv4_2', 'conv4_3', 'conv5_1', 'conv5_2', 'conv5_3', 'fc6', 'fc7', 'conv6_1', 'conv6_2', 'conv7_1', 'conv7_2', 'conv8_1', 'conv8_2', 'conv9_1', 'conv9_2', 'conv4_3_norm', 'conv4_3_norm_mbox_loc', 'conv4_3_norm_mbox_conf', 'fc7_mbox_loc', 'fc7_mbox_conf', 'conv6_2_mbox_loc', 'conv6_2_mbox_conf', 'conv7_2_mbox_loc', 'conv7_2_mbox_conf', 'conv8_2_mbox_loc', 'conv8_2_mbox_conf', 'conv9_2_mbox_loc', 'conv9_2_mbox_conf']\n",
      "another iteration\n",
      "conv1_1\n",
      "vgg.0.weight\n",
      "vgg.0.bias\n",
      "another iteration\n",
      "conv1_2\n",
      "vgg.2.weight\n",
      "vgg.2.bias\n",
      "another iteration\n",
      "conv2_1\n",
      "vgg.5.weight\n",
      "vgg.5.bias\n",
      "another iteration\n",
      "conv2_2\n",
      "vgg.7.weight\n",
      "vgg.7.bias\n",
      "another iteration\n",
      "conv3_1\n",
      "vgg.10.weight\n",
      "vgg.10.bias\n",
      "another iteration\n",
      "conv3_2\n",
      "vgg.12.weight\n",
      "vgg.12.bias\n",
      "another iteration\n",
      "conv3_3\n",
      "vgg.14.weight\n",
      "vgg.14.bias\n",
      "another iteration\n",
      "conv4_1\n",
      "vgg.17.weight\n",
      "vgg.17.bias\n",
      "another iteration\n",
      "conv4_2\n",
      "vgg.19.weight\n",
      "vgg.19.bias\n",
      "another iteration\n",
      "conv4_3\n",
      "vgg.21.weight\n",
      "vgg.21.bias\n",
      "another iteration\n",
      "conv5_1\n",
      "vgg.24.weight\n",
      "vgg.24.bias\n",
      "another iteration\n",
      "conv5_2\n",
      "vgg.26.weight\n",
      "vgg.26.bias\n",
      "another iteration\n",
      "conv5_3\n",
      "vgg.28.weight\n",
      "vgg.28.bias\n",
      "another iteration\n",
      "fc6\n",
      "vgg.31.weight\n",
      "vgg.31.bias\n",
      "another iteration\n",
      "fc7\n",
      "vgg.33.weight\n",
      "vgg.33.bias\n",
      "another iteration\n",
      "conv6_1\n",
      "extras.0.weight\n",
      "extras.0.bias\n",
      "another iteration\n",
      "conv6_2\n",
      "extras.1.weight\n",
      "extras.1.bias\n",
      "another iteration\n",
      "conv7_1\n",
      "extras.2.weight\n",
      "extras.2.bias\n",
      "another iteration\n",
      "conv7_2\n",
      "extras.3.weight\n",
      "extras.3.bias\n",
      "another iteration\n",
      "conv8_1\n",
      "extras.4.weight\n",
      "extras.4.bias\n",
      "another iteration\n",
      "conv8_2\n",
      "extras.5.weight\n",
      "extras.5.bias\n",
      "another iteration\n",
      "conv9_1\n",
      "extras.6.weight\n",
      "extras.6.bias\n",
      "another iteration\n",
      "conv9_2\n",
      "extras.7.weight\n",
      "extras.7.bias\n",
      "another iteration\n",
      "conv4_3_norm\n",
      "L2Norm.weight\n",
      "another iteration\n",
      "conv4_3_norm_mbox_loc\n",
      "loc.0.weight\n",
      "loc.0.bias\n",
      "another iteration\n",
      "conv4_3_norm_mbox_conf\n",
      "conf.0.weight\n",
      "conf.0.bias\n",
      "another iteration\n",
      "fc7_mbox_loc\n",
      "loc.1.weight\n",
      "loc.1.bias\n",
      "another iteration\n",
      "fc7_mbox_conf\n",
      "conf.1.weight\n",
      "conf.1.bias\n",
      "another iteration\n",
      "conv6_2_mbox_loc\n",
      "loc.2.weight\n",
      "loc.2.bias\n",
      "another iteration\n",
      "conv6_2_mbox_conf\n",
      "conf.2.weight\n",
      "conf.2.bias\n",
      "another iteration\n",
      "conv7_2_mbox_loc\n",
      "loc.3.weight\n",
      "loc.3.bias\n",
      "another iteration\n",
      "conv7_2_mbox_conf\n",
      "conf.3.weight\n",
      "conf.3.bias\n",
      "another iteration\n",
      "conv8_2_mbox_loc\n",
      "loc.4.weight\n",
      "loc.4.bias\n",
      "another iteration\n",
      "conv8_2_mbox_conf\n",
      "conf.4.weight\n",
      "conf.4.bias\n",
      "another iteration\n",
      "conv9_2_mbox_loc\n",
      "loc.5.weight\n",
      "loc.5.bias\n",
      "another iteration\n",
      "conv9_2_mbox_conf\n",
      "conf.5.weight\n",
      "conf.5.bias\n"
     ]
    }
   ],
   "source": [
    "caffe_keys = net.params.keys()\n",
    "print(caffe_keys)\n",
    "pytorch_keys = ['vgg.0.weight', 'vgg.0.bias', 'vgg.2.weight', 'vgg.2.bias', 'vgg.5.weight', 'vgg.5.bias',\n",
    "                'vgg.7.weight', 'vgg.7.bias', 'vgg.10.weight', 'vgg.10.bias', 'vgg.12.weight', 'vgg.12.bias',\n",
    "                'vgg.14.weight', 'vgg.14.bias', 'vgg.17.weight', 'vgg.17.bias', 'vgg.19.weight', 'vgg.19.bias', \n",
    "                'vgg.21.weight', 'vgg.21.bias', 'vgg.24.weight', 'vgg.24.bias', 'vgg.26.weight', 'vgg.26.bias', \n",
    "                'vgg.28.weight', 'vgg.28.bias', 'vgg.31.weight', 'vgg.31.bias', 'vgg.33.weight', 'vgg.33.bias',\n",
    "                'extras.0.weight', 'extras.0.bias', 'extras.1.weight', 'extras.1.bias', 'extras.2.weight', 'extras.2.bias',\n",
    "                'extras.3.weight', 'extras.3.bias', 'extras.4.weight', 'extras.4.bias', 'extras.5.weight', 'extras.5.bias',\n",
    "                'extras.6.weight', 'extras.6.bias', 'extras.7.weight', 'extras.7.bias', \n",
    "                'L2Norm.weight',\n",
    "                'loc.0.weight', 'loc.0.bias', 'conf.0.weight', 'conf.0.bias',\n",
    "                'loc.1.weight', 'loc.1.bias', 'conf.1.weight', 'conf.1.bias',\n",
    "                'loc.2.weight', 'loc.2.bias', 'conf.2.weight', 'conf.2.bias',\n",
    "                'loc.3.weight', 'loc.3.bias', 'conf.3.weight', 'conf.3.bias',\n",
    "                'loc.4.weight', 'loc.4.bias', 'conf.4.weight', 'conf.4.bias',\n",
    "                'loc.5.weight', 'loc.5.bias', 'conf.5.weight', 'conf.5.bias']\n",
    "\n",
    "count = 0\n",
    "rst = {}\n",
    "for key in caffe_keys:\n",
    "    print('another iteration')\n",
    "    print(key)\n",
    "    print(pytorch_keys[count])\n",
    "    rst[pytorch_keys[count]] = net.params[key][0].data\n",
    "    count = count + 1\n",
    "    \n",
    "    if not key.endswith('norm'):\n",
    "        print(pytorch_keys[count])\n",
    "        rst[pytorch_keys[count]] = net.params[key][1].data\n",
    "        count = count + 1"
   ]
  },
  {
   "cell_type": "code",
   "execution_count": 11,
   "metadata": {},
   "outputs": [],
   "source": [
    "with open('vgg_coco.npy', 'w') as f:\n",
    "    np.save(f, rst)"
   ]
  },
  {
   "cell_type": "code",
   "execution_count": null,
   "metadata": {
    "collapsed": true
   },
   "outputs": [],
   "source": []
  },
  {
   "cell_type": "code",
   "execution_count": null,
   "metadata": {
    "collapsed": true
   },
   "outputs": [],
   "source": []
  },
  {
   "cell_type": "code",
   "execution_count": null,
   "metadata": {
    "collapsed": true
   },
   "outputs": [],
   "source": []
  },
  {
   "cell_type": "code",
   "execution_count": null,
   "metadata": {
    "collapsed": true
   },
   "outputs": [],
   "source": []
  },
  {
   "cell_type": "code",
   "execution_count": null,
   "metadata": {
    "collapsed": true
   },
   "outputs": [],
   "source": []
  },
  {
   "cell_type": "code",
   "execution_count": null,
   "metadata": {
    "collapsed": true
   },
   "outputs": [],
   "source": []
  }
 ],
 "metadata": {
  "kernelspec": {
   "display_name": "Python 2",
   "language": "python",
   "name": "python2"
  },
  "language_info": {
   "codemirror_mode": {
    "name": "ipython",
    "version": 2
   },
   "file_extension": ".py",
   "mimetype": "text/x-python",
   "name": "python",
   "nbconvert_exporter": "python",
   "pygments_lexer": "ipython2",
   "version": "2.7.13"
  }
 },
 "nbformat": 4,
 "nbformat_minor": 2
}
