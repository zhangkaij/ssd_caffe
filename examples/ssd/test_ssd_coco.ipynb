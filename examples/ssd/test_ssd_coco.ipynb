{
 "cells": [
  {
   "cell_type": "code",
   "execution_count": 1,
   "metadata": {
    "collapsed": true
   },
   "outputs": [],
   "source": [
    "import os\n",
    "import caffe\n",
    "import numpy as np\n",
    "import matplotlib.pyplot as plt\n",
    "\n",
    "%matplotlib inline\n",
    "\n",
    "os.chdir('/home/zhangkj/software/caffe')"
   ]
  },
  {
   "cell_type": "code",
   "execution_count": 2,
   "metadata": {
    "collapsed": true
   },
   "outputs": [],
   "source": [
    "caffe.set_device(2)\n",
    "caffe.set_mode_gpu()"
   ]
  },
  {
   "cell_type": "code",
   "execution_count": 3,
   "metadata": {
    "collapsed": true
   },
   "outputs": [],
   "source": [
    "solver = caffe.get_solver('models/VGGNet/coco/SSD_300x300/solver.prototxt')\n",
    "solver.net.copy_from('models/VGGNet/coco/SSD_300x300/vgg_coco.caffemodel')"
   ]
  },
  {
   "cell_type": "code",
   "execution_count": 4,
   "metadata": {},
   "outputs": [
    {
     "data": {
      "text/plain": [
       "array([ 46.,  46.,  46.,  51.,  50.,  50.,  50.,  50.], dtype=float32)"
      ]
     },
     "execution_count": 4,
     "metadata": {},
     "output_type": "execute_result"
    }
   ],
   "source": [
    "solver.net.forward()\n",
    "solver.net.blobs['label'].data[0, 0, :, 1]"
   ]
  },
  {
   "cell_type": "code",
   "execution_count": 7,
   "metadata": {},
   "outputs": [
    {
     "data": {
      "text/plain": [
       "array([[ 114.,  118.,  125.,  118.,  113.,   76.],\n",
       "       [ 109.,  125.,  126.,  122.,  121.,  130.],\n",
       "       [ 120.,  119.,  120.,  108.,  128.,  127.],\n",
       "       [ 116.,  129.,  119.,  124.,  120.,  120.],\n",
       "       [ 126.,  124.,  123.,  122.,  128.,  120.],\n",
       "       [ 126.,  114.,  119.,  121.,  126.,  125.]], dtype=float32)"
      ]
     },
     "execution_count": 7,
     "metadata": {},
     "output_type": "execute_result"
    }
   ],
   "source": [
    "solver.net.blobs['data'].data[0, 2, 100:106, 100:106]"
   ]
  },
  {
   "cell_type": "code",
   "execution_count": null,
   "metadata": {},
   "outputs": [],
   "source": [
    "# convert (C, H, W) to (H, W, C)\n",
    "input = np.array(solver.net.blobs['data'].data[0].transpose(1, 2, 0)) + [104, 117, 123]\n",
    "# convert BGR to RGB\n",
    "input = input[:, :, (2, 1, 0)] / 255.\n",
    "plt.imshow(input)"
   ]
  },
  {
   "cell_type": "code",
   "execution_count": null,
   "metadata": {},
   "outputs": [],
   "source": [
    "pytorch_data = []\n",
    "with open('input.log', 'r') as f:\n",
    "    for line in f.readlines():\n",
    "        pytorch_data.append(float(line))\n",
    "        \n",
    "img_data = np.array(pytorch_data).reshape(3, 300, 300).transpose(1, 2, 0) + [104, 117, 123]\n",
    "img_data = img_data[:, :, (2, 1, 0)] / 255.\n",
    "plt.imshow(img_data)"
   ]
  },
  {
   "cell_type": "code",
   "execution_count": null,
   "metadata": {},
   "outputs": [],
   "source": [
    "print(solver.net.blobs['mbox_loss'].data)\n",
    "solver.net.blobs['data'].data[...] = np.array(pytorch_data).reshape(1, 3, 300, 300)\n",
    "solver.net.forward(start='conv1_1')\n",
    "print(solver.net.blobs['mbox_loss'].data)"
   ]
  },
  {
   "cell_type": "code",
   "execution_count": null,
   "metadata": {},
   "outputs": [],
   "source": [
    "print(solver.net.blobs['label'].data[:, :, :, 3:7])\n",
    "print(solver.net.blobs['label'].data[:, :, :, 1])"
   ]
  },
  {
   "cell_type": "code",
   "execution_count": null,
   "metadata": {},
   "outputs": [],
   "source": [
    "solver.net.blobs.keys()\n",
    "solver.net.blobs['mbox_conf'].data.shape"
   ]
  },
  {
   "cell_type": "code",
   "execution_count": null,
   "metadata": {},
   "outputs": [],
   "source": [
    "solver.net.forward()"
   ]
  },
  {
   "cell_type": "code",
   "execution_count": null,
   "metadata": {
    "collapsed": true
   },
   "outputs": [],
   "source": []
  },
  {
   "cell_type": "markdown",
   "metadata": {},
   "source": [
    "compare the difference of two data file"
   ]
  },
  {
   "cell_type": "code",
   "execution_count": null,
   "metadata": {
    "collapsed": true
   },
   "outputs": [],
   "source": [
    "caffe_data = []\n",
    "pytorch_data = []\n",
    "with open('pytorch.log', 'r') as f:\n",
    "    for line in f.readlines():\n",
    "        pytorch_data.append(float(line))\n",
    "\n",
    "with open('caffe.log', 'r') as f:\n",
    "    for line in f.readlines():\n",
    "        caffe_data.append(float(line))\n",
    "\n",
    "count = 0\n",
    "for c_data, p_data in zip(caffe_data, pytorch_data):\n",
    "    diff = c_data - p_data\n",
    "    if diff > 0.0001 or diff < -0.0001:\n",
    "        count += 1\n",
    "        print(c_data, \"pytorch: \", p_data)\n",
    "print(\"count: \", count)"
   ]
  },
  {
   "cell_type": "code",
   "execution_count": null,
   "metadata": {
    "collapsed": true
   },
   "outputs": [],
   "source": [
    "count = 0\n",
    "with open('output.log', 'r') as f:\n",
    "    for line in f.readlines():\n",
    "        label = float(line)\n",
    "        if label != -1:\n",
    "            print(label)\n",
    "            count = count + 1\n",
    "print('count: ', count)"
   ]
  },
  {
   "cell_type": "code",
   "execution_count": null,
   "metadata": {
    "collapsed": true
   },
   "outputs": [],
   "source": []
  },
  {
   "cell_type": "code",
   "execution_count": null,
   "metadata": {},
   "outputs": [],
   "source": [
    "import cv2"
   ]
  },
  {
   "cell_type": "code",
   "execution_count": null,
   "metadata": {
    "collapsed": true
   },
   "outputs": [],
   "source": []
  },
  {
   "cell_type": "code",
   "execution_count": null,
   "metadata": {
    "collapsed": true
   },
   "outputs": [],
   "source": []
  }
 ],
 "metadata": {
  "kernelspec": {
   "display_name": "Python 2",
   "language": "python",
   "name": "python2"
  },
  "language_info": {
   "codemirror_mode": {
    "name": "ipython",
    "version": 2
   },
   "file_extension": ".py",
   "mimetype": "text/x-python",
   "name": "python",
   "nbconvert_exporter": "python",
   "pygments_lexer": "ipython2",
   "version": "2.7.13"
  }
 },
 "nbformat": 4,
 "nbformat_minor": 2
}
